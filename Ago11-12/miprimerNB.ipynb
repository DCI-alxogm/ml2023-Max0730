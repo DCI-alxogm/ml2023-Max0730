{
  "nbformat": 4,
  "nbformat_minor": 0,
  "metadata": {
    "colab": {
      "provenance": [],
      "authorship_tag": "ABX9TyPI1ilULevDVfnytDR85gjn",
      "include_colab_link": true
    },
    "kernelspec": {
      "name": "python3",
      "display_name": "Python 3"
    },
    "language_info": {
      "name": "python"
    }
  },
  "cells": [
    {
      "cell_type": "markdown",
      "metadata": {
        "id": "view-in-github",
        "colab_type": "text"
      },
      "source": [
        "<a href=\"https://colab.research.google.com/github/DCI-alxogm/ml2023-Max0730/blob/main/Ago11-12/miprimerNB.ipynb\" target=\"_parent\"><img src=\"https://colab.research.google.com/assets/colab-badge.svg\" alt=\"Open In Colab\"/></a>"
      ]
    },
    {
      "cell_type": "code",
      "execution_count": 40,
      "metadata": {
        "id": "i1HqkiWCwuPg"
      },
      "outputs": [],
      "source": [
        "lista1=[2,\"2\",\"dos\",2.0] #Las listas pueden tener diferentes tipos de valores"
      ]
    },
    {
      "cell_type": "code",
      "source": [
        "lista1*2  #Se pueden multiplicar listas por escalares, únicamente por enteros. Esto da como resultado la lista repetida la cantidad de veces que vale el escalar"
      ],
      "metadata": {
        "colab": {
          "base_uri": "https://localhost:8080/"
        },
        "id": "VMs2e3YExdK3",
        "outputId": "a361cefb-8de1-4a2d-ca98-91b5b973386c"
      },
      "execution_count": 6,
      "outputs": [
        {
          "output_type": "execute_result",
          "data": {
            "text/plain": [
              "[2, '2', 'dos', 2.0, 2, '2', 'dos', 2.0]"
            ]
          },
          "metadata": {},
          "execution_count": 6
        }
      ]
    },
    {
      "cell_type": "code",
      "source": [
        "lista1.append(5) #Permite añadir elementos al final de la lista"
      ],
      "metadata": {
        "id": "ImPReacxyQo6"
      },
      "execution_count": 29,
      "outputs": []
    },
    {
      "cell_type": "code",
      "source": [
        "lista1.remove (\"2\") #Elimina el elemento que coincide con el valor indicado"
      ],
      "metadata": {
        "id": "DJaRwNEwyYpv"
      },
      "execution_count": 18,
      "outputs": []
    },
    {
      "cell_type": "code",
      "source": [
        "del lista1[2] #Elimina el elemento que se encuentra en el índice indicado"
      ],
      "metadata": {
        "id": "lt2zsBU8yvbA"
      },
      "execution_count": 37,
      "outputs": []
    },
    {
      "cell_type": "code",
      "source": [
        "lista1"
      ],
      "metadata": {
        "colab": {
          "base_uri": "https://localhost:8080/"
        },
        "id": "Ud0XKMYdziQa",
        "outputId": "ee306590-95df-4712-c6e1-1f022652ac2d"
      },
      "execution_count": 38,
      "outputs": [
        {
          "output_type": "execute_result",
          "data": {
            "text/plain": [
              "['dos', 2.0, 'tres', 5]"
            ]
          },
          "metadata": {},
          "execution_count": 38
        }
      ]
    },
    {
      "cell_type": "code",
      "source": [
        "del lista1[0:2] #Elimina los elementos que se encuentran en el rango de índices indicado"
      ],
      "metadata": {
        "id": "waX3v2Vrzq0p"
      },
      "execution_count": 30,
      "outputs": []
    },
    {
      "cell_type": "code",
      "source": [
        "lista1.insert(2,'tres') #Añade en el índice indicado el elemento que deseemos"
      ],
      "metadata": {
        "id": "n1tTwlzUz1dY"
      },
      "execution_count": 35,
      "outputs": []
    },
    {
      "cell_type": "code",
      "source": [
        "?lista1.insert #Nos proporciona información sobre la indicación"
      ],
      "metadata": {
        "id": "5oy2ymap0XIR"
      },
      "execution_count": 39,
      "outputs": []
    },
    {
      "cell_type": "code",
      "source": [
        "lista2=[4, \"cuatro\", \"4\"]"
      ],
      "metadata": {
        "id": "QI5KJBFT1PYC"
      },
      "execution_count": 42,
      "outputs": []
    },
    {
      "cell_type": "code",
      "source": [
        "lista3=[lista1, lista2]"
      ],
      "metadata": {
        "id": "e1x56Pz30t8U"
      },
      "execution_count": 43,
      "outputs": []
    },
    {
      "cell_type": "code",
      "source": [
        "lista3"
      ],
      "metadata": {
        "colab": {
          "base_uri": "https://localhost:8080/"
        },
        "id": "39mioNT21VML",
        "outputId": "10ce59f9-23af-4dc5-d34b-44234527737f"
      },
      "execution_count": 44,
      "outputs": [
        {
          "output_type": "execute_result",
          "data": {
            "text/plain": [
              "[[2, '2', 'dos', 2.0], [4, 'cuatro', '4']]"
            ]
          },
          "metadata": {},
          "execution_count": 44
        }
      ]
    },
    {
      "cell_type": "code",
      "source": [
        "for i in (lista1):\n",
        "  print(i)"
      ],
      "metadata": {
        "colab": {
          "base_uri": "https://localhost:8080/"
        },
        "id": "sGhMNXTB1WZ4",
        "outputId": "72f839a6-7173-42e9-902a-a61be330efae"
      },
      "execution_count": 48,
      "outputs": [
        {
          "output_type": "stream",
          "name": "stdout",
          "text": [
            "2\n",
            "2\n",
            "dos\n",
            "2.0\n"
          ]
        }
      ]
    },
    {
      "cell_type": "code",
      "source": [
        "for i in range (len(lista1)):\n",
        "  print (i,lista1[i])"
      ],
      "metadata": {
        "colab": {
          "base_uri": "https://localhost:8080/"
        },
        "id": "pdCepkmn1e5g",
        "outputId": "d01b7bbd-cf19-4a75-a7bc-8d0bcff0dcae"
      },
      "execution_count": 54,
      "outputs": [
        {
          "output_type": "stream",
          "name": "stdout",
          "text": [
            "0 2\n",
            "1 2\n",
            "2 dos\n",
            "3 2.0\n"
          ]
        }
      ]
    },
    {
      "cell_type": "code",
      "source": [
        "for i, item in enumerate (lista1): #enumerate regresa una lista indexada que lleva el índice y el valor que se encuentra en esa posición\n",
        "  print (i, item)"
      ],
      "metadata": {
        "colab": {
          "base_uri": "https://localhost:8080/"
        },
        "id": "gyABDu671wt-",
        "outputId": "2a0d91a0-990b-4548-eb69-bce4ca3b880b"
      },
      "execution_count": 60,
      "outputs": [
        {
          "output_type": "stream",
          "name": "stdout",
          "text": [
            "0 2\n",
            "1 2\n",
            "2 dos\n",
            "3 2.0\n"
          ]
        }
      ]
    },
    {
      "cell_type": "code",
      "source": [
        "lista1=(2,\"2\",\"dos\",2.0)  #Con paréntesis es una tupla, parecido a una lista pero no se pueden hacer operaciones entre ellas\n",
        "type(lista1)"
      ],
      "metadata": {
        "colab": {
          "base_uri": "https://localhost:8080/"
        },
        "id": "-2Pji01a2riZ",
        "outputId": "bb7315f1-2f4d-41c0-fdb5-a1496d607223"
      },
      "execution_count": 62,
      "outputs": [
        {
          "output_type": "execute_result",
          "data": {
            "text/plain": [
              "tuple"
            ]
          },
          "metadata": {},
          "execution_count": 62
        }
      ]
    },
    {
      "cell_type": "code",
      "source": [
        "import array as arr  #Librería array"
      ],
      "metadata": {
        "id": "iS3Tc36N3xz7"
      },
      "execution_count": 63,
      "outputs": []
    },
    {
      "cell_type": "code",
      "source": [
        "arreglo=arr.array(\"i\", [1,2,3])    #Definimos un arreglo indicando el tipo de datos que contendrá\n",
        "arreglo"
      ],
      "metadata": {
        "colab": {
          "base_uri": "https://localhost:8080/"
        },
        "id": "3u0aJmup4MpB",
        "outputId": "3f330634-e392-4b9e-b9f4-2eaccb15cbd0"
      },
      "execution_count": 75,
      "outputs": [
        {
          "output_type": "execute_result",
          "data": {
            "text/plain": [
              "array('i', [1, 2, 3])"
            ]
          },
          "metadata": {},
          "execution_count": 75
        }
      ]
    },
    {
      "cell_type": "code",
      "source": [
        "arreglo*arreglo  #No se pueden multiplicar este tipo de arreglos, pero los definidos en numpy sí"
      ],
      "metadata": {
        "colab": {
          "base_uri": "https://localhost:8080/",
          "height": 178
        },
        "id": "6ssosVAy4Un5",
        "outputId": "baf9fabc-da54-4c32-bddb-7a96c3b3104e"
      },
      "execution_count": 76,
      "outputs": [
        {
          "output_type": "error",
          "ename": "TypeError",
          "evalue": "ignored",
          "traceback": [
            "\u001b[0;31m---------------------------------------------------------------------------\u001b[0m",
            "\u001b[0;31mTypeError\u001b[0m                                 Traceback (most recent call last)",
            "\u001b[0;32m<ipython-input-76-994f0801bf65>\u001b[0m in \u001b[0;36m<cell line: 1>\u001b[0;34m()\u001b[0m\n\u001b[0;32m----> 1\u001b[0;31m \u001b[0marreglo\u001b[0m\u001b[0;34m*\u001b[0m\u001b[0marreglo\u001b[0m\u001b[0;34m\u001b[0m\u001b[0;34m\u001b[0m\u001b[0m\n\u001b[0m",
            "\u001b[0;31mTypeError\u001b[0m: can't multiply sequence by non-int of type 'array.array'"
          ]
        }
      ]
    },
    {
      "cell_type": "code",
      "source": [
        "import numpy as np"
      ],
      "metadata": {
        "id": "Do3rSc6M4v51"
      },
      "execution_count": 77,
      "outputs": []
    },
    {
      "cell_type": "code",
      "source": [
        "nparr1=np.array([1,2,3])"
      ],
      "metadata": {
        "id": "ZIEREjOc5P_l"
      },
      "execution_count": 78,
      "outputs": []
    },
    {
      "cell_type": "code",
      "source": [
        "nparr1*nparr1 #Multiplica elemento a elemento entre los vectores"
      ],
      "metadata": {
        "colab": {
          "base_uri": "https://localhost:8080/"
        },
        "id": "OZSi7BUx5Utb",
        "outputId": "eec2efbf-2787-459b-d2ad-068e3b2d4c36"
      },
      "execution_count": 81,
      "outputs": [
        {
          "output_type": "execute_result",
          "data": {
            "text/plain": [
              "array([1, 4, 9])"
            ]
          },
          "metadata": {},
          "execution_count": 81
        }
      ]
    },
    {
      "cell_type": "code",
      "source": [],
      "metadata": {
        "id": "Lyf2wT-F5XSL"
      },
      "execution_count": null,
      "outputs": []
    }
  ]
}