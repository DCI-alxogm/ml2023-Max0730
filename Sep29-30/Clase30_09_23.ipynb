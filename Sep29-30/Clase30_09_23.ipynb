{
  "nbformat": 4,
  "nbformat_minor": 0,
  "metadata": {
    "colab": {
      "provenance": []
    },
    "kernelspec": {
      "name": "python3",
      "display_name": "Python 3"
    },
    "language_info": {
      "name": "python"
    }
  },
  "cells": [
    {
      "cell_type": "markdown",
      "source": [
        "# Monte Carlo Markov Chain Metropolis algorithm\n",
        "\n",
        "Antes de aplicar el método, debemos ver si los datos tienen algún tipo de error\n",
        "*   Definimos valores iniciales de los parámetros libres.\n",
        "    $$ \\theta_{ini} = [] $$\n",
        "*   Proponemos un nuevo y aleatorio conjunto de parámetros libres con una distribución Gaussiana centrada en los parámetros iniciales, con una dispersión predefinida. \\\\\n",
        "    Si tenemos 2 puntos, elegimos la sigma a partir de una distribución Gaussiana. La sigma define el espacio de parámetros de un dato dado. Si es muy grande o muy chica, es muy difícil que incluya al dato.\n",
        "    $$ \\theta_{prop} = [gaussian(\\theta_{ini}, \\sigma), gaussian (\\theta_{ini}, \\sigma)] $$\n",
        "*  Evaluar el logaritmo de posterior del parámetro inicial y de los parámetros propuestos para compararlos.\n",
        "  $$ ln Post(\\theta_{ini}), ln Post $$\n",
        "  Si $ ln Post(\\theta_{prop})>ln Post (\\theta_{ini}) $ \\\\\n",
        "  *  acepto $ \\theta_{prop} $ \\\\\n",
        "  *  guardo $ \\theta_{prop} $ \\\\\n",
        "  *  $ \\theta_{ini} = \\theta_{prop} $\n",
        "  \n",
        "  Si no:\n",
        "  * $ ptest = Uniform (o,1) $\n",
        "  * si $ (ln Post (\\theta_{prop}) - ln Post (\\theta_{ini})> ln(ptest)) $:\n",
        "      *  acepto $ \\theta_{prop} $\n",
        "      *  guardo $ \\theta_{prop} $\n",
        "      * $ \\theta_{ini} = \\theta_{prop} $\n",
        "    \n",
        "  * si no:\n",
        "    * guardo $ \\theta_{ini} = \\theta_{ini} $\n",
        "\n",
        "  Terminamos con una lista con la distribución de los $\\theta$ 's. El algoritmo da una dispersión que maximiza el posterior.\n",
        "  El máximo posterior da un número, el bayesiano cuál es valor promedio. Nos da un Verdadero al decir que el dato está dentro de la distribución.\n",
        "  "
      ],
      "metadata": {
        "id": "MyMISo8665Ss"
      }
    },
    {
      "cell_type": "code",
      "execution_count": 3,
      "metadata": {
        "id": "G2NvunDS60tu"
      },
      "outputs": [],
      "source": [
        "import numpy as np\n",
        "import matplotlib.pyplot as plt\n",
        "from google.colab import drive"
      ]
    },
    {
      "cell_type": "code",
      "source": [
        "drive.mount('/content/drive')"
      ],
      "metadata": {
        "colab": {
          "base_uri": "https://localhost:8080/"
        },
        "id": "kNEAPjwtIR3f",
        "outputId": "337a5768-f928-4b96-aac2-a3b2021223ed"
      },
      "execution_count": 4,
      "outputs": [
        {
          "output_type": "stream",
          "name": "stdout",
          "text": [
            "Mounted at /content/drive\n"
          ]
        }
      ]
    },
    {
      "cell_type": "code",
      "source": [
        "data = np.loadtxt('/content/drive/MyDrive/Data/olympic100m_men.txt',delimiter=',').T\n",
        "x = data[0]\n",
        "y = data[1]"
      ],
      "metadata": {
        "id": "HUqWLIalIeSC"
      },
      "execution_count": 85,
      "outputs": []
    },
    {
      "cell_type": "code",
      "source": [
        "X = np.vstack((np.ones_like(x),x)).T\n",
        "X.shape"
      ],
      "metadata": {
        "colab": {
          "base_uri": "https://localhost:8080/"
        },
        "id": "tKzyr0_ZWtCj",
        "outputId": "230ac842-2de1-40cd-dba3-e474440923bf"
      },
      "execution_count": 86,
      "outputs": [
        {
          "output_type": "execute_result",
          "data": {
            "text/plain": [
              "(27, 2)"
            ]
          },
          "metadata": {},
          "execution_count": 86
        }
      ]
    },
    {
      "cell_type": "code",
      "source": [
        "def lineal (X, w):\n",
        "  # x,y,w deben ser arreglos de numpy\n",
        "  w = np.array(w)\n",
        "  return X@w # [7,2]*[2,1]=[7,1]"
      ],
      "metadata": {
        "id": "zjJNI-u2Cget"
      },
      "execution_count": 88,
      "outputs": []
    },
    {
      "cell_type": "code",
      "source": [
        "def logaritmo (y, x, w, model = lineal): #lo definimos de esta manera para no usar ciclos for para la sumatoria\n",
        "  log = (y - model(x,w))**2\n",
        "  log = np.sum(log)\n",
        "  return log\n",
        "\n",
        "def Prior (w, w_max, w_min):\n",
        "  if (w_min[0]<w[0]<w_max[0]) and (w_min[1]<w[1]<w_max[1]):\n",
        "    return 1\n",
        "  else:\n",
        "    return np.inf"
      ],
      "metadata": {
        "id": "F7fmZlTDaZ4E"
      },
      "execution_count": 95,
      "outputs": []
    },
    {
      "cell_type": "code",
      "source": [
        "def MonteCarlo (x, y, w_inter, iter, sigma = 0.1, model = lineal, log = logaritmo):\n",
        "  # Definimos el parámetro inicial\n",
        "  theta_ini = [0,0]\n",
        "  w0 = float(input('Indica el w0:'))\n",
        "  theta_ini[0] = w0\n",
        "  w1 = float(input('Indica el w1:'))\n",
        "  theta_ini[1] = w1\n",
        "\n",
        "\n",
        "  thetas = []\n",
        "\n",
        "  i = 0\n",
        "  while i < iter:\n",
        "    # Generamos la propuesta\n",
        "    theta_prop = [np.random.normal(theta_ini[0], sigma), np.random.normal(theta_ini[1], sigma)]\n",
        "\n",
        "    log_ini = logaritmo(y, x, theta_ini) + np.log(Prior(theta_ini, w_inter[0], w_inter[1]))\n",
        "    log_prop = logaritmo(y, x, theta_prop) + np.log(Prior(theta_prop, w_inter[0], w_inter[1]))\n",
        "\n",
        "    if log_prop > log_ini:\n",
        "      thetas.append(theta_prop)\n",
        "      theta_ini = theta_prop\n",
        "    else:\n",
        "      thetas.append(theta_ini)\n",
        "\n",
        "    if log_prop == log_ini:\n",
        "      thetas.append(theta_prop)\n",
        "      theta_ini = theta_prop\n",
        "    else:\n",
        "      thetas.append(theta_ini)\n",
        "    i +=1\n",
        "\n",
        "  return np.array(thetas)"
      ],
      "metadata": {
        "id": "_2uIg_bdFEC8"
      },
      "execution_count": 96,
      "outputs": []
    },
    {
      "cell_type": "code",
      "source": [
        "w_inter = [[50, 1], [20, -1]]\n",
        "chain = MonteCarlo(X, y, w_inter, iter = 10000, sigma = 0.05)\n",
        "\n",
        "w0s = chain[0].T\n",
        "w1s = chain[1].T\n",
        "\n",
        "plt.scatter(w0s, w1s)"
      ],
      "metadata": {
        "colab": {
          "base_uri": "https://localhost:8080/",
          "height": 485
        },
        "id": "DMsvcZJbN3Dh",
        "outputId": "ca4a4f39-f837-47fa-a0ea-2de91ee008c5"
      },
      "execution_count": 98,
      "outputs": [
        {
          "name": "stdout",
          "output_type": "stream",
          "text": [
            "Indica el w0:100\n",
            "Indica el w1:-5\n"
          ]
        },
        {
          "output_type": "execute_result",
          "data": {
            "text/plain": [
              "<matplotlib.collections.PathCollection at 0x7f432fd00070>"
            ]
          },
          "metadata": {},
          "execution_count": 98
        },
        {
          "output_type": "display_data",
          "data": {
            "text/plain": [
              "<Figure size 640x480 with 1 Axes>"
            ],
            "image/png": "[encoded data removed]"
          },
          "metadata": {}
        }
      ]
    },
    {
      "cell_type": "code",
      "source": [],
      "metadata": {
        "id": "yN2UuPmMRZhl"
      },
      "execution_count": null,
      "outputs": []
    }
  ]
}