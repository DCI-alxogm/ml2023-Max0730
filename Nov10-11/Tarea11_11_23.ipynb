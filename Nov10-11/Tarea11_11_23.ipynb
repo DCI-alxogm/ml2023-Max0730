{
  "nbformat": 4,
  "nbformat_minor": 0,
  "metadata": {
    "colab": {
      "provenance": []
    },
    "kernelspec": {
      "name": "python3",
      "display_name": "Python 3"
    },
    "language_info": {
      "name": "python"
    }
  },
  "cells": [
    {
      "cell_type": "code",
      "execution_count": 1,
      "metadata": {
        "id": "o1Tbe54G0HJV"
      },
      "outputs": [],
      "source": [
        "import glob\n",
        "import numpy as np\n",
        "import copy\n",
        "import matplotlib.pyplot as plt\n",
        "import h5py\n",
        "import scipy\n",
        "from PIL import Image\n",
        "from scipy import ndimage\n",
        "from google.colab import drive\n",
        "import random\n",
        "\n",
        "%matplotlib inline"
      ]
    },
    {
      "cell_type": "markdown",
      "source": [
        "Cargamos los datos."
      ],
      "metadata": {
        "id": "UkoSQddS0z9z"
      }
    },
    {
      "cell_type": "code",
      "source": [
        "drive.mount('/content/drive')\n",
        "#Los datos corresponden a un subset del dataset cats vs dogs de https://www.kaggle.com/c/dogs-vs-cats\n",
        "files=glob.glob('/content/drive/MyDrive/Data/CATS_DOGS/*')"
      ],
      "metadata": {
        "colab": {
          "base_uri": "https://localhost:8080/"
        },
        "id": "QjFJs_jg0g23",
        "outputId": "8780cb24-43f9-49f3-bf99-fdd25a1a95e8"
      },
      "execution_count": 2,
      "outputs": [
        {
          "output_type": "stream",
          "name": "stdout",
          "text": [
            "Mounted at /content/drive\n"
          ]
        }
      ]
    },
    {
      "cell_type": "code",
      "source": [
        "len(files)"
      ],
      "metadata": {
        "colab": {
          "base_uri": "https://localhost:8080/"
        },
        "id": "dWNtVQn802DN",
        "outputId": "ffd0c6d5-c1a9-4368-81ab-5b67d4221dcc"
      },
      "execution_count": 3,
      "outputs": [
        {
          "output_type": "execute_result",
          "data": {
            "text/plain": [
              "1787"
            ]
          },
          "metadata": {},
          "execution_count": 3
        }
      ]
    },
    {
      "cell_type": "code",
      "source": [
        "#numero de pixeles para nuestras imágenes.\n",
        "num_px=64"
      ],
      "metadata": {
        "id": "IUm43_gq1jBP"
      },
      "execution_count": 4,
      "outputs": []
    },
    {
      "cell_type": "markdown",
      "source": [
        "Preparamos el entrenamiento supervisado."
      ],
      "metadata": {
        "id": "pSoYo1sG1saY"
      }
    },
    {
      "cell_type": "code",
      "source": [
        "files1 = random.sample(files, len(files))  #Para seleccionar datos random del dataset"
      ],
      "metadata": {
        "id": "cNzhoEY11WW4"
      },
      "execution_count": 5,
      "outputs": []
    },
    {
      "cell_type": "code",
      "source": [
        "#Entrenamiento supervisado\n",
        "train_x=[]\n",
        "train_y=[]\n",
        "for file in files1[:600]:  #Entrenamos con las primeras 600 imágenes\n",
        "    img=Image.open(file)\n",
        "    img=img.resize((num_px,num_px))  #Redefinimos la resolución de las imágenes\n",
        "    data=np.asarray(img)  #Guardamos cada imágen en un vector\n",
        "    train_x.append(data)  #Concatenamos los vectores en uno solo\n",
        "    img.close()\n",
        "    if 'dog' in file:\n",
        "        train_y.append(1)  # 1 si es un perro\n",
        "    if 'cat' in file:\n",
        "        train_y.append(0)  # 0 si es un gato\n",
        "train_y=np.asarray(train_y)\n",
        "train_x=np.asarray(train_x)"
      ],
      "metadata": {
        "id": "UhXCdCN-1m5r"
      },
      "execution_count": 6,
      "outputs": []
    },
    {
      "cell_type": "code",
      "source": [
        "plt.imshow(train_x[0])"
      ],
      "metadata": {
        "colab": {
          "base_uri": "https://localhost:8080/",
          "height": 449
        },
        "id": "ZfQfRsar2lKL",
        "outputId": "75f5adfd-8979-47b0-febc-dc59526607e4"
      },
      "execution_count": 7,
      "outputs": [
        {
          "output_type": "execute_result",
          "data": {
            "text/plain": [
              "<matplotlib.image.AxesImage at 0x7ccf43e220e0>"
            ]
          },
          "metadata": {},
          "execution_count": 7
        },
        {
          "output_type": "display_data",
          "data": {
            "text/plain": [
              "<Figure size 640x480 with 1 Axes>"
            ],
            "image/png": "[encoded data removed]"
          },
          "metadata": {}
        }
      ]
    },
    {
      "cell_type": "markdown",
      "source": [
        "Preparamos el dataset de prueba."
      ],
      "metadata": {
        "id": "BARhHZPw2-kg"
      }
    },
    {
      "cell_type": "code",
      "source": [
        "test_x=[]\n",
        "test_y=[]\n",
        "for file in files1[600:]:  #Hacemos la prueba a partir del dato número 600 porque entrenamos con los primeros 600\n",
        "    #print(file)\n",
        "    img=Image.open(file)\n",
        "    img=img.resize((num_px,num_px))\n",
        "    data=np.asarray(img)\n",
        "    test_x.append(data)\n",
        "    img.close()\n",
        "    if 'dog' in file:\n",
        "        test_y.append(1)\n",
        "    if 'cat' in file:\n",
        "        test_y.append(0)\n",
        "test_y=np.asarray(test_y)\n",
        "test_x=np.asarray(test_x)"
      ],
      "metadata": {
        "id": "GpnOPLY_2_EG"
      },
      "execution_count": 8,
      "outputs": []
    },
    {
      "cell_type": "code",
      "source": [
        "plt.imshow(test_x[0])"
      ],
      "metadata": {
        "colab": {
          "base_uri": "https://localhost:8080/",
          "height": 449
        },
        "id": "ZBfyZAJl3QBl",
        "outputId": "77de5467-78a6-4356-f5c3-5e5f504475fa"
      },
      "execution_count": 9,
      "outputs": [
        {
          "output_type": "execute_result",
          "data": {
            "text/plain": [
              "<matplotlib.image.AxesImage at 0x7ccf43625000>"
            ]
          },
          "metadata": {},
          "execution_count": 9
        },
        {
          "output_type": "display_data",
          "data": {
            "text/plain": [
              "<Figure size 640x480 with 1 Axes>"
            ],
            "image/png": "[encoded data removed]"
          },
          "metadata": {}
        }
      ]
    },
    {
      "cell_type": "markdown",
      "source": [
        "Hacemos una transformación de los arreglos que contienen las imagenes para que sean arreglos de una dimensión."
      ],
      "metadata": {
        "id": "Twy_gkhd3UMv"
      }
    },
    {
      "cell_type": "code",
      "source": [
        "train_x_flatten = train_x.reshape(train_x.shape[0], -1).T\n",
        "\n",
        "test_x_flatten = test_x.reshape(test_x.shape[0], -1).T\n",
        "\n",
        "train_set_y=train_y.reshape((1,train_y.shape[0]))\n",
        "test_set_y=test_y.reshape((1,test_y.shape[0]))"
      ],
      "metadata": {
        "id": "F4D6LErL3VaB"
      },
      "execution_count": 10,
      "outputs": []
    },
    {
      "cell_type": "markdown",
      "source": [
        "Normalizamos las imágenes."
      ],
      "metadata": {
        "id": "TbgPgTtx3jsY"
      }
    },
    {
      "cell_type": "code",
      "source": [
        "train_set_x= train_x_flatten/255\n",
        "test_set_x= test_x_flatten/255"
      ],
      "metadata": {
        "id": "ictSHWHd3lVf"
      },
      "execution_count": 11,
      "outputs": []
    },
    {
      "cell_type": "markdown",
      "source": [
        "Ya esta listo nuestro set de datos para poder trabajar con el."
      ],
      "metadata": {
        "id": "nDBhlLu93tZA"
      }
    },
    {
      "cell_type": "markdown",
      "source": [
        "Debemos añadir una capa oculta de dos neuronas, cuya salida pasa a la capa con una sola neurona que genera una predicción final.\n",
        "Este proceso se conoce como **forward propagation**."
      ],
      "metadata": {
        "id": "pKov51gwge2Q"
      }
    },
    {
      "cell_type": "markdown",
      "source": [
        "Ahora, para simular las capas de una Neurona, creamos varias funciones tomando como base el código del perceptrón."
      ],
      "metadata": {
        "id": "VhhIoR0p36XC"
      }
    },
    {
      "cell_type": "code",
      "source": [
        "#Definimos las funciones\n",
        "\n",
        "#Para la función Z\n",
        "def z(x,w,b):\n",
        "  Z = w.T @ x + b\n",
        "  return Z\n",
        "\n",
        "#Para el sigmoide\n",
        "def sigmoide(x,w,b):\n",
        "  a = 1 / (1 + np.exp(-z(x,w,b)))\n",
        "  return a\n",
        "\n",
        "#Para el costo\n",
        "def costo (x,w,b,y):\n",
        "  a = sigmoide(x,w,b)\n",
        "  m = y.shape[1]\n",
        "  cost = -1 / m * np.sum(y * np.log(a) + (1 - y) * np.log(1 - a))\n",
        "  return cost\n",
        "\n",
        "#Para la propagación descendente y calcular los gradientes\n",
        "def dw(x,y,w,b):\n",
        "  a = sigmoide(x,w,b)\n",
        "  m = x.shape[1]\n",
        "  dz = a - y\n",
        "  dw = np.dot(x, dz.T) / m\n",
        "  return dw\n",
        "def db(x,y,w,b):\n",
        "  a = sigmoide(x,w,b)\n",
        "  m = x.shape[1]\n",
        "  dz = a - y\n",
        "  db = np.sum(dz) / m\n",
        "  return db\n",
        "\n",
        "#Para el método gradiente descendiente\n",
        "def grad_des(x,y,w,b,iter=1000,taza=0.001):\n",
        "  costs = []\n",
        "  for i in range (iter):\n",
        "    cost = costo(x,w,b,y)\n",
        "    costs.append(cost)\n",
        "    #Valores actualizados de los pesos\n",
        "    w -= taza*dw(x,y,w,b)\n",
        "    b -= taza*db(x,y,w,b)\n",
        "  return w, b, costs"
      ],
      "metadata": {
        "id": "BxkvZrce3wly"
      },
      "execution_count": 12,
      "outputs": []
    },
    {
      "cell_type": "code",
      "source": [
        "#Definimos la función para agregar las capas\n",
        "def neurona_forward(x,c,neuronas,iter=1000,taza=0.001):  #c es la cantidad de capas\n",
        "  a = x\n",
        "  for c in range(c):\n",
        "    an = []\n",
        "    for n in range(neuronas[c]):\n",
        "      w = 0.1 * np.random.random(size=a.shape)\n",
        "      b = 0.1 * np.random.random(size=a.shape)\n",
        "      an.append(np.sum(w * a + b))\n",
        "      print(f'Neurona{c,n+1},    Activación:{np.sum(a)},    w:{np.sum(w)},   b:{np.sum(b)}')\n",
        "    a = np.array(an)\n",
        "  return w,b"
      ],
      "metadata": {
        "id": "rXWW6Oz9d8aN"
      },
      "execution_count": 15,
      "outputs": []
    },
    {
      "cell_type": "code",
      "source": [
        "#Establecemos los parámetros iniciales\n",
        "#w, b inician en ceros\n",
        "w=np.zeros(train_set_x.shape)\n",
        "b=np.zeros(train_set_y.shape[1])\n",
        "taza= 0.01\n",
        "np.random.seed(1235)\n",
        "c=2         #Éste es el valor l-1\n",
        "neuronas=[2,1]"
      ],
      "metadata": {
        "id": "pdWgv7yJifGm"
      },
      "execution_count": 18,
      "outputs": []
    },
    {
      "cell_type": "code",
      "source": [
        "w,b = neurona_forward(train_set_x,c,neuronas,iter=100,taza=0.0001)"
      ],
      "metadata": {
        "colab": {
          "base_uri": "https://localhost:8080/"
        },
        "id": "HBzM0KtOk6Jq",
        "outputId": "ec7dff33-27b1-4ac0-b4c5-82834706cffc"
      },
      "execution_count": 20,
      "outputs": [
        {
          "output_type": "stream",
          "name": "stdout",
          "text": [
            "Neurona(0, 1),    Activación:3410958.882352936,    w:368693.4753183766,   b:368555.50680953305\n",
            "Neurona(0, 2),    Activación:3410958.882352936,    w:368646.75496805663,   b:368523.6560147521\n",
            "Neurona(1, 1),    Activación:1078183.7506347732,    w:0.03182820879729058,   b:0.07283932627229261\n"
          ]
        }
      ]
    },
    {
      "cell_type": "code",
      "source": [],
      "metadata": {
        "id": "8RVs-sqPl-5b"
      },
      "execution_count": null,
      "outputs": []
    }
  ]
}